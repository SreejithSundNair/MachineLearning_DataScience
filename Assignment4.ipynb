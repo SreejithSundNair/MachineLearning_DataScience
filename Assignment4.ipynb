{
 "cells": [
  {
   "cell_type": "markdown",
   "metadata": {},
   "source": [
    "# Python Assignment 4"
   ]
  },
  {
   "cell_type": "markdown",
   "metadata": {},
   "source": [
    "Write a Python Program(with class concepts) to find the area of the triangle using the below\n",
    "formula."
   ]
  },
  {
   "cell_type": "code",
   "execution_count": 49,
   "metadata": {},
   "outputs": [],
   "source": [
    "class triangle:\n",
    "    def __init__(self):\n",
    "        self.side1 = float(input(\"enter traingle side1: \"))\n",
    "        self.side2 = float(input(\"enter traingle side2: \"))\n",
    "        self.side3 = float(input(\"enter traingle side3: \"))\n",
    "        self.SemiPerim = (self.side1 + self.side2 + self.side3)/2\n",
    "        \n",
    "class operation(triangle):\n",
    "    def __init__(self, *args):\n",
    "        super(operation, self).__init__(*args)\n",
    "    \n",
    "    def Area(self, *args):\n",
    "        self.area = ((self.SemiPerim)*(self.SemiPerim - self.side1)*(self.SemiPerim - self.side2)*(self.SemiPerim - self.side3))**0.5\n",
    "        return self.area"
   ]
  },
  {
   "cell_type": "code",
   "execution_count": 50,
   "metadata": {},
   "outputs": [
    {
     "name": "stdout",
     "output_type": "stream",
     "text": [
      "enter traingle side1: 10\n",
      "enter traingle side2: 12\n",
      "enter traingle side3: 14\n"
     ]
    }
   ],
   "source": [
    "Area1 = operation()"
   ]
  },
  {
   "cell_type": "code",
   "execution_count": 51,
   "metadata": {},
   "outputs": [
    {
     "data": {
      "text/plain": [
       "58.787753826796276"
      ]
     },
     "execution_count": 51,
     "metadata": {},
     "output_type": "execute_result"
    }
   ],
   "source": [
    "Area1.Area()"
   ]
  },
  {
   "cell_type": "markdown",
   "metadata": {},
   "source": [
    "Write a function filter_long_words() that takes a list of words and an integer n and returns\n",
    "the list of words that are longer than n."
   ]
  },
  {
   "cell_type": "code",
   "execution_count": 11,
   "metadata": {},
   "outputs": [
    {
     "data": {
      "text/plain": [
       "[4, 6, 11, 5, 4]"
      ]
     },
     "execution_count": 11,
     "metadata": {},
     "output_type": "execute_result"
    }
   ],
   "source": [
    "#Input\n",
    "x = [\"Abcd\", \"Abcdef\", 'Abcedefghij', 'kbdef', 'Abcd']\n",
    "\n",
    "\n",
    "def len_words(x):\n",
    "    return list(map(lambda x: len(x), x))\n",
    "\n",
    "len_words(x)"
   ]
  },
  {
   "cell_type": "markdown",
   "metadata": {},
   "source": [
    "Write a Python function which takes a character (i.e. a string of length 1) and returns True if\n",
    "it is a vowel, False otherwise."
   ]
  },
  {
   "cell_type": "code",
   "execution_count": 23,
   "metadata": {},
   "outputs": [
    {
     "name": "stdout",
     "output_type": "stream",
     "text": [
      "Enter the character: a\n"
     ]
    },
    {
     "data": {
      "text/plain": [
       "True"
      ]
     },
     "execution_count": 23,
     "metadata": {},
     "output_type": "execute_result"
    }
   ],
   "source": [
    "x = ['a', 'A', 'e', 'E', 'i', 'I', 'o', 'O', 'u', 'U']\n",
    "c = lambda y: True if y in x else False\n",
    "c(input(\"Enter the character: \"))"
   ]
  }
 ],
 "metadata": {
  "kernelspec": {
   "display_name": "Python 3",
   "language": "python",
   "name": "python3"
  },
  "language_info": {
   "codemirror_mode": {
    "name": "ipython",
    "version": 3
   },
   "file_extension": ".py",
   "mimetype": "text/x-python",
   "name": "python",
   "nbconvert_exporter": "python",
   "pygments_lexer": "ipython3",
   "version": "3.7.6"
  }
 },
 "nbformat": 4,
 "nbformat_minor": 4
}
